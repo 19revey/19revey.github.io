{
 "cells": [
  {
   "cell_type": "code",
   "execution_count": null,
   "metadata": {},
   "outputs": [],
   "source": [
    "import torch\n",
    "from torch import nn\n",
    "import torch.nn.functional as F\n",
    "from functools import partial\n",
    "\n",
    "def batch_norm(x):\n",
    "    mean = x.mean(0, keepdim=True)\n",
    "    var = x.var(0, unbiased=False, keepdim=True)\n",
    "    x_norm = (x - mean) / (var + 1e-5).sqrt()\n",
    "    return x_norm\n",
    "\n",
    "def layer_norm(x):\n",
    "    mean = x.mean(1, keepdim=True)\n",
    "    var = x.var(1, unbiased=False, keepdim=True)\n",
    "    x_norm = (x - mean) / (var + 1e-5).sqrt()\n",
    "    return x_norm\n",
    "\n",
    "def group_norm(x, num_groups):\n",
    "    N, C = x.shape\n",
    "    x = x.view(N, num_groups, -1)\n",
    "    mean = x.mean(-1, keepdim=True)\n",
    "    var = x.var(-1, unbiased=False, keepdim=True)\n",
    "    x_norm = (x - mean) / (var + 1e-5).sqrt()\n",
    "    x_norm = x_norm.view(N, C)\n",
    "    return x_norm\n",
    "\n",
    "class MLP(nn.Module):\n",
    "    def __init__(self, input_dim, hidden_dim, output_dim, norm_func):\n",
    "        super().__init__()\n",
    "        self.linear1 = nn.Linear(input_dim, hidden_dim)\n",
    "        self.norm_func = norm_func\n",
    "        self.linear2 = nn.Linear(hidden_dim, output_dim)\n",
    "        \n",
    "    def forward(self, x):\n",
    "        x = self.linear1(x)\n",
    "        x = self.norm_func(x)\n",
    "        x = F.relu(x)\n",
    "        x = self.linear2(x)\n",
    "        return x\n",
    "\n",
    "# Create a random tensor with size (batch_size, input_dim)\n",
    "x = torch.randn(32,  100)\n",
    "\n",
    "# Create the MLP models with batch norm, layer norm, and group norm\n",
    "model_bn = MLP(100, 64, 10, batch_norm)\n",
    "model_ln = MLP(100, 64, 10, layer_norm)\n",
    "model_gn = MLP(100, 64, 10, partial(group_norm, num_groups=4))\n",
    "\n",
    "# Pass the input tensor through the models\n",
    "output_bn = model_bn(x)\n",
    "output_ln = model_ln(x)\n",
    "output_gn = model_gn(x)\n",
    "\n",
    "# Print the outputs\n",
    "print(\"Output with batch norm:\\n\", output_bn.shape)\n",
    "print(\"\\nOutput with layer norm:\\n\", output_ln.shape)\n",
    "print(\"\\nOutput with group norm:\\n\", output_gn.shape) "
   ]
  },
  {
   "cell_type": "code",
   "execution_count": null,
   "metadata": {},
   "outputs": [],
   "source": []
  }
 ],
 "metadata": {
  "kernelspec": {
   "display_name": "torch",
   "language": "python",
   "name": "python3"
  },
  "language_info": {
   "codemirror_mode": {
    "name": "ipython",
    "version": 3
   },
   "file_extension": ".py",
   "mimetype": "text/x-python",
   "name": "python",
   "nbconvert_exporter": "python",
   "pygments_lexer": "ipython3",
   "version": "3.11.0"
  }
 },
 "nbformat": 4,
 "nbformat_minor": 2
}
