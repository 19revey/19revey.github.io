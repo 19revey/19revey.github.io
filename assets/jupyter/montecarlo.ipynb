{
 "cells": [
  {
   "cell_type": "markdown",
   "metadata": {},
   "source": [
    "# Illustrative example\n",
    "\n",
    "Imagine you are the marketing manager for a firm that is planning to introduce a new product. You need to estimate the first-year net profit from this product, which might depend on:\n",
    "\n",
    "- Sales volume in units\n",
    "- Price per unit (also called \"Selling price\")\n",
    "- Unit cost\n",
    "- Fixed costs\n",
    "\n",
    "Net profit will be calculated as $Net Profit = Sales Volume* (Selling Price - Unit cost) - Fixed costs$.  Fixed costs (accounting for various overheads, advertising budget, etc.) are known to be \\$ 120,000, which we assume to be deterministic. All other factors, instead, involve some uncertainty: *sales volume* (in units) can cover quite a large range, the *selling price* per unit will depend on competitor actions, which are hard to predict, and *unit costs* will also vary depending on vendor prices and production experience, for example."
   ]
  },
  {
   "cell_type": "markdown",
   "metadata": {},
   "source": [
    "## 1. Unit sales and unit price\n",
    "\n",
    "Based on a hypothetical market research you have done, you have beliefs that there are equal chances for the market to be `slow`, `normal`, or `hot`:\n",
    "\n",
    "- In a \"slow\" market, you expect to sell 50,000 units at an average selling price of \\$11.00 per unit\n",
    "- In a \"normal\" market, you expect to sell 75,000 units, but you'll likely realize a lower average selling price of \\$10.00 per unit\n",
    "- In a \"hot\" market, you expect to sell 100,000 units, but this will bring in competitors, who will drive down the average selling price to \\$8.00 per unit"
   ]
  },
  {
   "cell_type": "markdown",
   "metadata": {},
   "source": [
    "<div class=\"alert alert-info\">\n",
    "Calculate the average units and the unit price that you expect to sell, which depend on the market state. Use the assumptions above to compute the expected quantity of products and their expected unit price. \n",
    "</div>"
   ]
  },
  {
   "cell_type": "code",
   "execution_count": 1,
   "metadata": {},
   "outputs": [
    {
     "name": "stdout",
     "output_type": "stream",
     "text": [
      "average unit: 75000\n",
      "average_price: 9.67\n"
     ]
    }
   ],
   "source": [
    "import numpy as np\n",
    "units = np.array([50000, 75000, 100000])\n",
    "prices = np.array([11.0, 10.0, 8.0])\n",
    "average_unit =  units.mean()\n",
    "average_price = prices.mean()\n",
    "print(\"average unit: %.0f\" %(average_unit))\n",
    "print(\"average_price: %.2f\" %(average_price))"
   ]
  },
  {
   "cell_type": "markdown",
   "metadata": {},
   "source": [
    "<div class=\"alert alert-info\">\n",
    "Write a function named `calNetProfit` to calculate the Net Profit using the average of sales volume, the average of selling price and the average of unit cost.\n",
    "</div>"
   ]
  },
  {
   "cell_type": "code",
   "execution_count": 2,
   "metadata": {},
   "outputs": [
    {
     "name": "stdout",
     "output_type": "stream",
     "text": [
      "Net profit: 117500$\n"
     ]
    }
   ],
   "source": [
    "def calNetProfit(average_unit, average_price, average_unitcost, fixed_cost):\n",
    "    return average_unit*(average_price-average_unitcost)-fixed_cost\n",
    "\n",
    "average_unitcost = 6.50\n",
    "fixed_cost = 120000\n",
    "net_profit = calNetProfit(average_unit,average_price,average_unitcost,fixed_cost)\n",
    "print(\"Net profit: %.0f$\" %(net_profit))"
   ]
  },
  {
   "cell_type": "markdown",
   "metadata": {},
   "source": [
    "<div class=\"alert alert-info\">\n",
    "Verify the warning message of Dr. Sam Savage by calculating the error of our estimated Net Profit using averages only. Recall that the true value is roughly \\$93,000, so we are interested in:\n",
    "<ul></ul>\n",
    "\n",
    "$$ error = \\frac{your\\_value - true\\_value}{true\\_value}$$\n",
    "\n",
    "<ul></ul>\n",
    "Note also we are interested in displaying the error as a percentage.\n",
    "<ul></ul>\n",
    "Looking at the error we make, do you think that we can use the current model that only relies on averages?\n",
    "</div>"
   ]
  },
  {
   "cell_type": "code",
   "execution_count": 3,
   "metadata": {},
   "outputs": [
    {
     "name": "stdout",
     "output_type": "stream",
     "text": [
      "Error in percentage: 26.344%\n"
     ]
    }
   ],
   "source": [
    "true_net_profit = 93000\n",
    "error = (net_profit - true_net_profit) / true_net_profit\n",
    "print(\"Error in percentage: %.3f%%\" %(error * 100))"
   ]
  },
  {
   "cell_type": "markdown",
   "metadata": {},
   "source": [
    "<div class=\"alert alert-info\">\n",
    "Write a function named `get_sales_volume_price` that returns the sales volume and price based on the market scenario. In particular, the scenario can get one of three values:\n",
    "<ul>\n",
    "  <li>0: Slow market</li>\n",
    "  <li>1: Normal market</li>\n",
    "  <li>2: Hot market</li>\n",
    "</ul>  \n",
    "\n",
    "The return value is a tuple in the form: `(sales_volume, price)`\n",
    "</div>"
   ]
  },
  {
   "cell_type": "code",
   "execution_count": 5,
   "metadata": {},
   "outputs": [],
   "source": [
    "# Get sales volume and  price based on market scenario\n",
    "# the function returns a tuple of (sales_volume, price)\n",
    "def get_sales_volume_price(scenario):\n",
    "    # Slow market\n",
    "    if scenario == 0:\n",
    "        return (50000,11.0)\n",
    "    # Normal market\n",
    "    if scenario == 1:\n",
    "        return (75000, 10.0)\n",
    "    # Hot market\n",
    "    if scenario == 2:\n",
    "        return (100000, 8.0)"
   ]
  },
  {
   "cell_type": "markdown",
   "metadata": {},
   "source": [
    "<div class=\"alert alert-info\">\n",
    "Run 100,000 Monte Carlo simulations and calculate the average net profit they produce. Then, compare the result to the \"average model\" we used in the previous questions (the one we called \"flawed\" model)."
   ]
  },
  {
   "cell_type": "code",
   "execution_count": 7,
   "metadata": {},
   "outputs": [
    {
     "name": "stdout",
     "output_type": "stream",
     "text": [
      "Average net profit: 92680.001$\n",
      "Error in percentage: 0.344%\n"
     ]
    }
   ],
   "source": [
    "import random\n",
    "total = np.array([])\n",
    "num_simulation = 100000\n",
    "for i in range(0,num_simulation):\n",
    "    unit_cost = random.uniform(5.5, 7.5) #the unit costs may vary between $5.50 to $7.50\n",
    "    market_scenario = random.randint(0, 2) #to get our market scenario 0, 1 or 2\n",
    "    sales_volume, price = get_sales_volume_price(market_scenario)\n",
    "    net_profit = calNetProfit(sales_volume, price, unit_cost, fixed_cost)\n",
    "    total = np.append(total, net_profit)\n",
    "\n",
    "print(\"Average net profit: %.3f$\" %total.mean())\n",
    "\n",
    "#evaluating the error on the Monte Carlo Simulation Approach\n",
    "errorMCS = (total.mean() - true_net_profit) / true_net_profit\n",
    "print(\"Error in percentage: %.3f%%\" %(np.abs(errorMCS * 100)))\n",
    "\n",
    "val = np.zeros(len(total))\n",
    "err = np.zeros(len(total))\n",
    "val[0] = total[0]\n",
    "err[0] = np.abs((total[0]-true_net_profit)/true_net_profit*100)\n",
    "\n",
    "for i in range(1, len(total)):\n",
    "    val[i] = (total[i]+val[i-1]) \n",
    "    x = val[i]/(i+1) #evaluating the sum of all profits until this simulation and mean until now\n",
    "    err[i] = np.abs((x-true_net_profit)/true_net_profit)"
   ]
  },
  {
   "cell_type": "code",
   "execution_count": 12,
   "metadata": {},
   "outputs": [
    {
     "data": {
      "image/png": "[encoded data removed]",
      "text/plain": [
       "<Figure size 1000x400 with 2 Axes>"
      ]
     },
     "metadata": {},
     "output_type": "display_data"
    }
   ],
   "source": [
    "# %matplotlib inline\n",
    "import matplotlib.pyplot as plt\n",
    "import seaborn as sns\n",
    "\n",
    "plt.figure(figsize=(10,4))\n",
    "plt.subplot(121)\n",
    "plt.plot(np.arange(2000), err[0:2000])\n",
    "plt.ylabel(\"error\")\n",
    "plt.xlabel(\"number of simulations\")\n",
    "\n",
    "plt.subplot(122)\n",
    "plt.plot(np.arange(60), err[0:60])\n",
    "plt.ylabel(\"error\")\n",
    "plt.xlabel(\"number of simulations\")\n",
    "plt.axis([0,60,0,10])\n",
    "plt.show()"
   ]
  },
  {
   "cell_type": "markdown",
   "metadata": {},
   "source": [
    "<div class=\"alert alert-success\">\n",
    "As we can see, increasing the number of simulations allows to reach to the true value of the netProfit. In the example above, we performed 100k simulations and this allowed us to reach an error of less tha 0.5%. In the plot above, we plotted how the error decreases over time. It's really interesting to see how the error reaches a <i>reasonable</i> result in less than 20 iterations (<i>plot below</i>) and from that iteration onwards, the error remains low and pretty constant (<i>plot above</i>).\n",
    "</div>"
   ]
  },
  {
   "cell_type": "markdown",
   "metadata": {},
   "source": []
  }
 ],
 "metadata": {
  "kernelspec": {
   "display_name": "base",
   "language": "python",
   "name": "python3"
  },
  "language_info": {
   "codemirror_mode": {
    "name": "ipython",
    "version": 3
   },
   "file_extension": ".py",
   "mimetype": "text/x-python",
   "name": "python",
   "nbconvert_exporter": "python",
   "pygments_lexer": "ipython3",
   "version": "3.11.5"
  }
 },
 "nbformat": 4,
 "nbformat_minor": 2
}
